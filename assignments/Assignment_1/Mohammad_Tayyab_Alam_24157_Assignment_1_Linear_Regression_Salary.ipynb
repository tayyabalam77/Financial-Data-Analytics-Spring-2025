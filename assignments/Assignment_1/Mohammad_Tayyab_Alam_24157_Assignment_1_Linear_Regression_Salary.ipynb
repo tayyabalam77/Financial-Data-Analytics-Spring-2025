{
  "nbformat": 4,
  "nbformat_minor": 0,
  "metadata": {
    "colab": {
      "provenance": []
    },
    "kernelspec": {
      "name": "python3",
      "display_name": "Python 3"
    },
    "language_info": {
      "name": "python"
    }
  },
  "cells": [
    {
      "cell_type": "markdown",
      "source": [
        "Suppose you are working in Finance Department at a Corporate employer who believes in cost cutting due to inflation and economic slowdown. You are tasked to figure out what is the ideal salary for the future-hires in which company can still ensure employee motivation and also not overpay.\n",
        "\n",
        "# Task\n",
        "--- Create a ML model using Linear Regression. Predict the salary based on years of work experience\n",
        "\n",
        "---"
      ],
      "metadata": {
        "id": "VGSkdKaa5nKx"
      }
    },
    {
      "cell_type": "markdown",
      "source": [
        "Import Libraries"
      ],
      "metadata": {
        "id": "ruzMrRkX1aeS"
      }
    },
    {
      "cell_type": "code",
      "source": [
        "# Importing necessary libraries\n",
        "import pandas as pd\n",
        "import numpy as np\n",
        "import matplotlib.pyplot as plt\n",
        "import seaborn as sns\n",
        "from sklearn.linear_model import LinearRegression\n",
        "from sklearn.model_selection import train_test_split, cross_val_score\n",
        "from sklearn.metrics import mean_squared_error, r2_score\n",
        "import ipywidgets as widgets\n",
        "from IPython.display import display\n"
      ],
      "metadata": {
        "id": "bjyA2_zr1FEb"
      },
      "execution_count": null,
      "outputs": []
    },
    {
      "cell_type": "markdown",
      "source": [
        "Load and Explore Dataset"
      ],
      "metadata": {
        "id": "09qoKR-t1YmR"
      }
    },
    {
      "cell_type": "code",
      "source": [
        "# Loading the dataset\n",
        "file_path = '/content/years_experience_salary_data.csv'  # Updated file path\n",
        "df = pd.read_csv(file_path)\n",
        "\n",
        "\n"
      ],
      "metadata": {
        "id": "PxvYDwar1FG8"
      },
      "execution_count": null,
      "outputs": []
    },
    {
      "cell_type": "code",
      "source": [
        "# Displaying the first few rows of the dataset\n",
        "print(\"First few rows of the dataset:\")\n",
        "print(df.head())"
      ],
      "metadata": {
        "id": "qT5jfwz2JTZH"
      },
      "execution_count": null,
      "outputs": []
    },
    {
      "cell_type": "code",
      "source": [
        "# Checking for null values\n",
        "print(\"\\nNull values in each column:\")\n",
        "print(df.isnull().sum())\n",
        "\n"
      ],
      "metadata": {
        "id": "YsVm69Nk1FJn"
      },
      "execution_count": null,
      "outputs": []
    },
    {
      "cell_type": "code",
      "source": [
        "# Descriptive statistics of the dataset\n",
        "print(\"\\nDescriptive statistics of the dataset:\")\n",
        "print(df.describe())\n"
      ],
      "metadata": {
        "id": "fuDEsLKx1FMW"
      },
      "execution_count": null,
      "outputs": []
    },
    {
      "cell_type": "markdown",
      "source": [
        "**Exploratory Data Analysis (EDA):**\n",
        "\n",
        "\n",
        "EDA helps verify the appropriateness of using a linear regression model by identifying patterns and relationships in the data.\n",
        "\n",
        "It also shows their linear relationship using scatter plots and correlation analysis.\n",
        "\n"
      ],
      "metadata": {
        "id": "rc5FbNbq1fLK"
      }
    },
    {
      "cell_type": "code",
      "source": [
        "# Visualizing the data distribution\n",
        "plt.figure(figsize=(14, 5))\n",
        "\n",
        "# Distribution plot for 'Years Experience'\n",
        "plt.subplot(1, 2, 1)\n",
        "sns.histplot(df['Years Experience'], kde=True, bins=20, color='blue')\n",
        "plt.title('Distribution of Years Experience')\n",
        "\n",
        "# Distribution plot for 'Salary'\n",
        "plt.subplot(1, 2, 2)\n",
        "sns.histplot(df['Salary'], kde=True, bins=20, color='green')\n",
        "plt.title('Distribution of Salary')\n",
        "\n",
        "plt.show()\n"
      ],
      "metadata": {
        "id": "vva_gbLu1FPC"
      },
      "execution_count": null,
      "outputs": []
    },
    {
      "cell_type": "code",
      "source": [
        "# Box plot for 'Years Experience'\n",
        "plt.figure(figsize=(8, 5))\n",
        "sns.boxplot(data=df, x='Years Experience', color='skyblue')\n",
        "plt.title('Box Plot of Years Experience')\n",
        "plt.show()\n",
        "\n",
        "# Box plot for 'Salary'\n",
        "plt.figure(figsize=(8, 5))\n",
        "sns.boxplot(data=df, x='Salary', color='lightgreen')\n",
        "plt.title('Box Plot of Salary')\n",
        "plt.show()\n"
      ],
      "metadata": {
        "id": "xaYACl069eRA"
      },
      "execution_count": null,
      "outputs": []
    },
    {
      "cell_type": "code",
      "source": [
        "\n",
        "# Scatter plot to visualize the relationship\n",
        "plt.figure(figsize=(8, 6))\n",
        "sns.scatterplot(x='Years Experience', y='Salary', data=df, color='purple')\n",
        "plt.title('Years Experience vs. Salary')\n",
        "plt.xlabel('Years Experience')\n",
        "plt.ylabel('Salary')\n",
        "plt.show()\n",
        "\n"
      ],
      "metadata": {
        "id": "jXOiIzxK1FR7"
      },
      "execution_count": null,
      "outputs": []
    },
    {
      "cell_type": "code",
      "source": [
        "# Correlation between features\n",
        "correlation = df.corr()\n",
        "print(\"\\nCorrelation matrix:\")\n",
        "print(correlation)\n",
        "\n",
        "# Heatmap for correlation\n",
        "plt.figure(figsize=(6, 4))\n",
        "sns.heatmap(correlation, annot=True, cmap='coolwarm')\n",
        "plt.title('Correlation Heatmap')\n",
        "plt.show()\n"
      ],
      "metadata": {
        "id": "tsQYD86T1FVF"
      },
      "execution_count": null,
      "outputs": []
    },
    {
      "cell_type": "markdown",
      "source": [
        "If the correlation coefficient between \"Years Experience\" and \"Salary\" is close to 1, it suggests a strong positive linear relationship, implying that as \"Years Experience\" increases, \"Salary\" tends to increase proportionally.\n",
        "\n",
        "\n",
        "\n",
        "A high correlation coefficient indicates that a linear model is appropriate, while a lower correlation suggests that a linear relationship may not fully capture the dynamics between the variables.\n",
        "\n",
        "\n",
        "\n"
      ],
      "metadata": {
        "id": "wTKdbKUl4kir"
      }
    },
    {
      "cell_type": "code",
      "source": [],
      "metadata": {
        "id": "HICjGCby1FZm"
      },
      "execution_count": null,
      "outputs": []
    },
    {
      "cell_type": "markdown",
      "source": [
        "**Model Building and Training:**\n",
        "\n",
        "The chunk below splits the dataset into training and testing sets, builds a linear regression model, trains it on the training data, and makes predictions on the test set.\n"
      ],
      "metadata": {
        "id": "7ZrVo36K12Dp"
      }
    },
    {
      "cell_type": "code",
      "source": [
        "# Splitting the data into training and testing sets\n",
        "X = df[['Years Experience']]\n",
        "y = df['Salary']\n",
        "X_train, X_test, y_train, y_test = train_test_split(X, y, test_size=0.3, random_state=42)\n",
        "\n"
      ],
      "metadata": {
        "id": "lwpWwN2n14Rf"
      },
      "execution_count": null,
      "outputs": []
    },
    {
      "cell_type": "code",
      "source": [
        "# Creating the Linear Regression model\n",
        "model = LinearRegression()\n",
        "model.fit(X_train, y_train)\n",
        "\n",
        "# Making predictions on the test set\n",
        "y_pred = model.predict(X_test)\n"
      ],
      "metadata": {
        "id": "all2ZYQx19Fk"
      },
      "execution_count": null,
      "outputs": []
    },
    {
      "cell_type": "code",
      "source": [
        "\n",
        "# Evaluating the model using R-squared and RMSE\n",
        "r2 = r2_score(y_test, y_pred)\n",
        "\n",
        "print(f\"R-squared: {r2}\")\n"
      ],
      "metadata": {
        "id": "M7LImtI_1_LX"
      },
      "execution_count": null,
      "outputs": []
    },
    {
      "cell_type": "code",
      "source": [],
      "metadata": {
        "id": "4yaxwbYeOMjl"
      },
      "execution_count": null,
      "outputs": []
    },
    {
      "cell_type": "markdown",
      "source": [
        "This value indicates that approximately 89.11% of the variance in the dependent variable (\"Salary\") can be explained by the independent variable (\"Years Experience\") using this linear regression model.\n",
        "\n",
        "\n",
        "In simpler terms: \"Years Experience\" is a strong predictor of \"Salary\" in your dataset, as the model explains a large portion of the variability in salary.\n",
        "\n",
        "\n"
      ],
      "metadata": {
        "id": "sxt8QJM54c5M"
      }
    },
    {
      "cell_type": "markdown",
      "source": [
        "**Residual Analysis to check for**\n",
        "\n",
        "Linearity: Relationship between predictors and response is linear.\n",
        "\n",
        "Independence: Residuals are independent.\n",
        "\n",
        "Homoscedasticity: Residuals have constant variance.\n",
        "\n",
        "Normality: Residuals are normally distributed.\n"
      ],
      "metadata": {
        "id": "M2mBZp6y2Wa7"
      }
    },
    {
      "cell_type": "code",
      "source": [
        "# Scatter plot to check linearity\n",
        "plt.figure(figsize=(8, 6))\n",
        "plt.scatter(X_test, y_test, color='blue', label='Actual Values')\n",
        "plt.plot(X_test, y_pred, color='red', linewidth=2, label='Fitted Line')\n",
        "plt.title('Linearity Check: Years Experience vs. Salary')\n",
        "plt.xlabel('Years Experience')\n",
        "plt.ylabel('Salary')\n",
        "plt.legend()\n",
        "plt.show()\n"
      ],
      "metadata": {
        "id": "FMxV1VLZ7gUl"
      },
      "execution_count": null,
      "outputs": []
    },
    {
      "cell_type": "markdown",
      "source": [
        "Interpretation: If the scatter plot shows a roughly linear relationship between the independent variable (\"Years Experience\") and the dependent variable (\"Salary\") with points closely scattered around the fitted line (red), the linearity assumption is satisfied.\n"
      ],
      "metadata": {
        "id": "VUCTBaix7mrW"
      }
    },
    {
      "cell_type": "code",
      "source": [
        " #Calculate residuals\n",
        "residuals = y_test - y_pred"
      ],
      "metadata": {
        "id": "-pcxS7tIOaos"
      },
      "execution_count": null,
      "outputs": []
    },
    {
      "cell_type": "markdown",
      "source": [],
      "metadata": {
        "id": "GsTKYjTUOaWz"
      }
    },
    {
      "cell_type": "code",
      "source": [
        "# Calculate residuals\n",
        "residuals = y_test - y_pred\n",
        "# Plot residuals over the order of observations to check independence\n",
        "plt.figure(figsize=(8, 6))\n",
        "plt.plot(range(len(residuals)), residuals, marker='o', linestyle='', color='blue')\n",
        "plt.axhline(y=0, color='red', linestyle='--')\n",
        "plt.title('Independence Check: Residuals over Observations')\n",
        "plt.xlabel('Observation Order')\n",
        "plt.ylabel('Residuals')\n",
        "plt.show()\n"
      ],
      "metadata": {
        "id": "DcSsQdoH7gQ9"
      },
      "execution_count": null,
      "outputs": []
    },
    {
      "cell_type": "markdown",
      "source": [
        "Interpretation: If the plot shows no clear pattern or structure (random scatter), the independence assumption is likely met. Non-random patterns (e.g., trends or cycles) suggest a violation of independence.\n"
      ],
      "metadata": {
        "id": "L3I0W5uU7wMh"
      }
    },
    {
      "cell_type": "code",
      "source": [
        "# Plot residuals vs. fitted values to check homoscedasticity\n",
        "plt.figure(figsize=(8, 6))\n",
        "plt.scatter(y_pred, residuals, color='blue')\n",
        "plt.axhline(y=0, color='red', linestyle='--')\n",
        "plt.title('Homoscedasticity Check: Residuals vs. Predicted Values')\n",
        "plt.xlabel('Predicted Values')\n",
        "plt.ylabel('Residuals')\n",
        "plt.show()\n"
      ],
      "metadata": {
        "id": "3xikjSma7gOE"
      },
      "execution_count": null,
      "outputs": []
    },
    {
      "cell_type": "markdown",
      "source": [
        "Interpretation: If the residuals are randomly scattered around the horizontal axis (y=0) with a consistent spread, the homoscedasticity assumption is satisfied."
      ],
      "metadata": {
        "id": "jvACrW9F70-W"
      }
    },
    {
      "cell_type": "code",
      "source": [
        "# Histogram of residuals to check normality\n",
        "plt.figure(figsize=(8, 5))\n",
        "sns.histplot(residuals, kde=True, color='purple')\n",
        "plt.title('Normality Check: Histogram of Residuals')\n",
        "plt.xlabel('Residuals')\n",
        "plt.ylabel('Frequency')\n",
        "plt.show()\n",
        "\n",
        "# Q-Q plot to further check for normality\n",
        "import scipy.stats as stats\n",
        "fig, ax = plt.subplots(figsize=(6, 6))\n",
        "stats.probplot(residuals, dist=\"norm\", plot=ax)\n",
        "plt.title('Q-Q Plot of Residuals')\n",
        "plt.show()\n"
      ],
      "metadata": {
        "id": "kaXjvofm7gLk"
      },
      "execution_count": null,
      "outputs": []
    },
    {
      "cell_type": "markdown",
      "source": [
        "Interpretation:\n",
        "\n",
        "Histogram: If the residuals follow a bell-shaped curve, it suggests they are normally distributed.\n",
        "\n",
        "Q-Q Plot: If the points lie approximately along the straight line, it indicates that the residuals are normally distributed."
      ],
      "metadata": {
        "id": "_ZBq6z0q79X9"
      }
    },
    {
      "cell_type": "markdown",
      "source": [
        "A random scatter around the horizontal line (y = 0) indicates that the linear regression model is appropriate and that the relationship between \"Years Experience\" and \"Salary\" is linear.\n"
      ],
      "metadata": {
        "id": "iEDM4VKT2brZ"
      }
    },
    {
      "cell_type": "markdown",
      "source": [
        "Meeting all four assumptions (linearity, independence, homoscedasticity, and normality of residuals) ensures the linear regression model provides unbiased and reliable estimates.\n",
        "\n",
        "\n",
        "If the assumptions are not met, the model may give biased predictions, leading to inaccurate results and incorrect conclusions. In such cases, alternative modeling techniques or data transformations should be considered."
      ],
      "metadata": {
        "id": "cu3O09qv6zkG"
      }
    },
    {
      "cell_type": "markdown",
      "source": [
        "Cross-Validation"
      ],
      "metadata": {
        "id": "lSkBunYT2orB"
      }
    },
    {
      "cell_type": "code",
      "source": [
        "# Performing k-fold cross-validation to evaluate model generalizability\n",
        "cv_scores = cross_val_score(model, X, y, cv=5, scoring='r2')  # Using R-squared as the scoring metric\n",
        "print(f\"Cross-Validation R-squared scores: {cv_scores}\")\n",
        "print(f\"Mean Cross-Validation R-squared: {cv_scores.mean()}\")\n"
      ],
      "metadata": {
        "id": "Ck9mbRGl2kTG"
      },
      "execution_count": null,
      "outputs": []
    },
    {
      "cell_type": "markdown",
      "source": [
        "This chunk performs 5-fold cross-validation to evaluate the model's generalizability. It splits the dataset into 5 parts and trains/tests the model on these subsets to get multiple R-squared scores.\n",
        "\n",
        "\n",
        "The mean cross-validation R-squared value indicates how well the model is likely to perform on unseen data, with values close to the initial R-squared indicating a stable and reliable model.\n",
        "\n",
        "\n",
        "5-fold cross-validation means the dataset is divided into 5 parts, with the model being trained on 4 parts and tested on 1 part in each iteration.\n",
        "\n"
      ],
      "metadata": {
        "id": "Wp0-xvD22raA"
      }
    },
    {
      "cell_type": "code",
      "source": [
        "# Interactive Prediction Code\n",
        "def interactive_prediction(years_exp):\n",
        "    # Predicting salary for given years of experience\n",
        "    predicted_salary = model.predict(np.array(years_exp).reshape(-1, 1))[0]\n",
        "    print(f\"For {years_exp} years of experience, the predicted salary is: ${predicted_salary:.2f}\")\n",
        "\n",
        "# Creating an interactive widget\n",
        "years_exp_widget = widgets.FloatSlider(value=5.0, min=1.0, max=30.0, step=0.1, description='Years Exp:')\n",
        "interactive_predict_button = widgets.interactive(interactive_prediction, years_exp=years_exp_widget)\n",
        "\n",
        "print(\"\\nInteractive Salary Prediction:\")\n",
        "display(interactive_predict_button)\n"
      ],
      "metadata": {
        "id": "Je5PPt5N2qYW"
      },
      "execution_count": null,
      "outputs": []
    },
    {
      "cell_type": "markdown",
      "source": [
        "**Data**\n",
        "\n",
        "What is the average number of years of experience?\n",
        "\n",
        "Answer: **The average number of years of experience is 10.66 years as per the working below.**\n",
        "\n",
        "\n",
        "What is the standard deviation of salaries?\n",
        "\n",
        "Answer: **The standard deviation of salaries is $30318.54 as per the working below.**\n",
        "\n",
        "What does the minimum and maximum salary suggest about the data?\n",
        "\n",
        "Answer: **The minimum and maximum salary suggest that there is a wide range of salaries in the data set which could point at potential outliers. Moreover, there is evidence that because the range of salary is too high it could be due to people with different domains, qualifications and skillsets.**"
      ],
      "metadata": {
        "id": "MU-VhiAS-2V9"
      }
    },
    {
      "cell_type": "code",
      "source": [
        "# Calculate the average years of experience\n",
        "average_experience = df[\"Years Experience\"].mean()\n",
        "\n",
        "print(f\"Average Years of Experience: {average_experience:.2f}\")"
      ],
      "metadata": {
        "id": "mVLTTqtOaUbf"
      },
      "execution_count": null,
      "outputs": []
    },
    {
      "cell_type": "code",
      "source": [
        "# Calculate the standard deviation of salaries\n",
        "salary_std = df[\"Salary\"].std()\n",
        "\n",
        "print(f\"Standard Deviation of Salaries: {salary_std:.2f}\")"
      ],
      "metadata": {
        "id": "pDSpl8XaaUUp"
      },
      "execution_count": null,
      "outputs": []
    },
    {
      "cell_type": "code",
      "source": [
        "min_salary = df[\"Salary\"].min()\n",
        "max_salary = df[\"Salary\"].max()\n",
        "\n",
        "print(f\"Minimum Salary: {min_salary}\")\n",
        "print(f\"Maximum Salary: {max_salary}\")\n"
      ],
      "metadata": {
        "id": "NAY7QFh5aUFT"
      },
      "execution_count": null,
      "outputs": []
    },
    {
      "cell_type": "markdown",
      "source": [
        "# Questions\n",
        "\n",
        "\n",
        "1. How can we interpret the coefficient of \"years of experience\"? What does a positive coefficient indicate?\n",
        "\n",
        "\n",
        "2. Why is it important to check the distribution of salary and years of experience before applying regression?\n",
        "\n",
        "3. What happens if we use all the data for training and none for testing? How does it impact model evaluation?\n",
        "\n",
        "4. What does it mean if the model's predicted salaries are consistently lower or higher than actual salaries?\n",
        "\n",
        "5. How does increasing or decreasing the training dataset size affect model performance?\n",
        "\n",
        "6. If another variable, such as \"certifications,\" is added to the dataset, how might it impact the regression results?\n",
        "\n",
        "7. If the dataset contained outliers (e.g., a person with 50 years of experience but a very low salary), how would that affect the model?\n",
        "\n",
        "8. If the dataset only contains a small number of observations, what problems might arise when training the model?\n",
        "\n",
        "9. How does the LinearRegression().fit() function work in training the model?\n",
        "\n",
        "10. If the dataset had outliers (e.g., a CEO with 40 years of experience earning $1M), how would that affect the model?\n",
        "\n",
        "11. If the company wanted to predict salary for interns (0 years experience), would this model still be reliable? Why or why not?"
      ],
      "metadata": {
        "id": "FTQRVSyn99zo"
      }
    },
    {
      "cell_type": "markdown",
      "source": [
        "\n",
        "\n",
        "1.   Question 1 Answer :\n",
        "\n",
        "The coeffecient of years of experience shows us the exact amount by which the salary will increase for a given year(s) of experience. In this case the coeffecient of years of experience is 5044.76. Since it is positive, it means that the salary increases by $5044.76 for every unit increase in years of experience.\n",
        "\n",
        "\n"
      ],
      "metadata": {
        "id": "mSN7KgsNZWeo"
      }
    },
    {
      "cell_type": "code",
      "source": [
        "# Print all coefficients\n",
        "coefficients = model.coef_\n",
        "print(f\"Coefficients: {coefficients}\")\n",
        "\n",
        "# Print the intercept\n",
        "intercept = model.intercept_\n",
        "print(f\"Intercept: {intercept}\")"
      ],
      "metadata": {
        "id": "mfum0EWaZsAl"
      },
      "execution_count": null,
      "outputs": []
    },
    {
      "cell_type": "markdown",
      "source": [
        "\n",
        "\n",
        "2.   Question 2 Answer :\n",
        "\n",
        "Checking the distribution helps identify skewness, outliers, and the relationship between variables. This ensures that the assumptions of linear regression (linearity, normality, homoscedasticity) are met, leading to more reliable results.\n",
        "\n"
      ],
      "metadata": {
        "id": "0qLfb7PSaPOb"
      }
    },
    {
      "cell_type": "markdown",
      "source": [
        "3. Question 3 Answer:\n",
        "\n",
        "We can see that the R^2 of the data with 100% being used for train is higher than that of the split data but we can not make any comments on the performance of the mocdel on unseen data. This is because being trained on a single piece of data leads to overfitting."
      ],
      "metadata": {
        "id": "KQPUoU7qqTUf"
      }
    },
    {
      "cell_type": "code",
      "source": [
        "from sklearn.model_selection import train_test_split\n",
        "from sklearn.linear_model import LinearRegression\n",
        "from sklearn.metrics import r2_score\n",
        "\n",
        "# Load the data\n",
        "X = df[['Years Experience']]\n",
        "y = df['Salary']\n",
        "\n",
        "# Scenario 1: Train-Test Split\n",
        "X_train, X_test, y_train, y_test = train_test_split(X, y, test_size=0.2, random_state=42)\n",
        "\n",
        "# Train the model on the training set\n",
        "model_split = LinearRegression().fit(X_train, y_train)\n",
        "\n",
        "# Evaluate on the training set\n",
        "train_score_split = model_split.score(X_train, y_train)\n",
        "\n",
        "# Evaluate on the testing set\n",
        "test_score_split = model_split.score(X_test, y_test)\n",
        "\n",
        "print(\"Train-Test Split Scenario:\")\n",
        "print(f\"Training R²: {train_score_split}\")\n",
        "print(f\"Testing R²: {test_score_split}\")\n",
        "print()\n",
        "\n",
        "# Scenario 2: Use All Data for Training\n",
        "model_all = LinearRegression().fit(X, y)\n",
        "\n",
        "# Evaluate on the entire dataset\n",
        "train_score_all = model_all.score(X, y)\n",
        "\n",
        "print(\"All Data for Training Scenario:\")\n",
        "print(f\"Training R² (using all data): {train_score_all}\")"
      ],
      "metadata": {
        "id": "85s28vOtZwU0"
      },
      "execution_count": null,
      "outputs": []
    },
    {
      "cell_type": "markdown",
      "source": [
        "4. Question 4 Answer:\n",
        "\n",
        " This suggests that the model has a systematic bias. Possible reasons include missing important predictor variables, using an incorrect functional form (e.g., assuming a linear relationship when the true relationship is non-linear), or overfitting. Lower prediction leads to underfitting while higher prediction leads to overfitting."
      ],
      "metadata": {
        "id": "2Ab5rK0FaP7N"
      }
    },
    {
      "cell_type": "markdown",
      "source": [
        "5. Question 5 Answer:\n",
        "\n",
        "- Increasing the dataset size generally improves model performance by making it more generalizable.\n",
        "\n",
        "- Decreasing the dataset size can lead to overfitting, where the model captures noise instead of actual patterns."
      ],
      "metadata": {
        "id": "VxMqy9KtrAxw"
      }
    },
    {
      "cell_type": "markdown",
      "source": [
        "6. Question 6 Answer:\n",
        "\n",
        "If certifications significantly influence salaries, adding them as a feature should improve the model. It could help explain salary variations that experience alone cannot."
      ],
      "metadata": {
        "id": "0ejv45xnaQfR"
      }
    },
    {
      "cell_type": "markdown",
      "source": [
        "7. Question 7 Answer:\n",
        "\n",
        "Such outliers could distort the model by pulling the regression line away from the general trend, reducing its predictive accuracy. Robust regression techniques or outlier handling methods like winsorization may be needed."
      ],
      "metadata": {
        "id": "wCYv-Lg7rJZ4"
      }
    },
    {
      "cell_type": "markdown",
      "source": [
        "8. Question 8 Answer:\n",
        "\n",
        "*   Higher variance in model estimates\n",
        "*   Less reliable coefficient estimates\n",
        "*   Greater risk of overfitting\n"
      ],
      "metadata": {
        "id": "jYjjI71NrJr_"
      }
    },
    {
      "cell_type": "markdown",
      "source": [
        "9. Question 9 Answer:\n",
        "\n",
        "The function calculates the best-fit line by minimizing the sum of squared errors between actual and predicted salaries. It determines the optimal coefficients using Ordinary Least Squares (OLS)."
      ],
      "metadata": {
        "id": "0lIcf28nrJ6L"
      }
    },
    {
      "cell_type": "markdown",
      "source": [
        "10. Question 10 Answer:\n",
        "\n",
        "High outliers can skew the regression line, leading to an overestimation of salaries for lower-experience employees.\n",
        "\n",
        "The Line of best fit would move above.\n",
        "\n",
        " This issue can be mitigated using transformations like log-salaries or robust regression."
      ],
      "metadata": {
        "id": "aAKee4TZrKFU"
      }
    },
    {
      "cell_type": "markdown",
      "source": [
        "11. Question 11 Answer:\n",
        "\n",
        "The model may not be reliable because it is trained on data where all employees have some experience. Extrapolating to zero years may produce inaccurate predictions if the relationship between experience and salary changes at the lower end. To resolve this a salary pool of interns should be used as they have no experience, the y intercept of experienced people is not reliable method."
      ],
      "metadata": {
        "id": "J7L18KCWrKQ5"
      }
    },
    {
      "cell_type": "code",
      "source": [],
      "metadata": {
        "id": "fwfUx6q27QnB"
      },
      "execution_count": null,
      "outputs": []
    }
  ]
}