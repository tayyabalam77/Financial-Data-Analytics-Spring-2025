{
  "nbformat": 4,
  "nbformat_minor": 0,
  "metadata": {
    "colab": {
      "provenance": []
    },
    "kernelspec": {
      "name": "python3",
      "display_name": "Python 3"
    },
    "language_info": {
      "name": "python"
    }
  },
  "cells": [
    {
      "cell_type": "markdown",
      "source": [
        "# TASK: Build a ML model to predict startup's profit based on various expenses.\n",
        "Suppose you are part of the finance team for a growing startup that is looking to expand operations. The management wants to predict future profits based on spending in R&D, Administration, and Marketing. Your task is to create a financial model that helps the startup optimize its spending while maximizing profit. This will help the company make informed investment decisions in different departments.\n",
        "\n",
        "\n",
        "\n"
      ],
      "metadata": {
        "id": "59zcrH1KPv8N"
      }
    },
    {
      "cell_type": "markdown",
      "source": [
        "Import Libraries and Load Dataset\n"
      ],
      "metadata": {
        "id": "Afba0wfgWB1b"
      }
    },
    {
      "cell_type": "code",
      "source": [
        "# Importing necessary libraries\n",
        "import pandas as pd\n",
        "import numpy as np\n",
        "import matplotlib.pyplot as plt\n",
        "import seaborn as sns\n",
        "from sklearn.model_selection import train_test_split\n",
        "from sklearn.linear_model import LinearRegression\n",
        "from sklearn.metrics import mean_squared_error, mean_absolute_error, r2_score\n",
        "\n"
      ],
      "metadata": {
        "id": "9tFRF7ONTFMj"
      },
      "execution_count": null,
      "outputs": []
    },
    {
      "cell_type": "code",
      "source": [
        "# Loading the dataset without the 'State' column\n",
        "file_path = '/content/50_Startups_ES.csv'  # Adjust this path if needed\n",
        "df = pd.read_csv(file_path)\n",
        "\n"
      ],
      "metadata": {
        "id": "v8h5y8eiWHMT"
      },
      "execution_count": null,
      "outputs": []
    },
    {
      "cell_type": "code",
      "source": [
        "# Displaying the first few rows of the dataset\n",
        "print(\"First few rows of the dataset:\")\n",
        "print(df.head())\n"
      ],
      "metadata": {
        "id": "tYAsbjOAWIPT"
      },
      "execution_count": null,
      "outputs": []
    },
    {
      "cell_type": "markdown",
      "source": [
        "Exploratory Data Analysis (EDA)\n"
      ],
      "metadata": {
        "id": "CR0uNxYjWJ9F"
      }
    },
    {
      "cell_type": "code",
      "source": [
        "# Checking for null values\n",
        "print(\"\\nNull values in each column:\")\n",
        "print(df.isnull().sum())\n",
        "\n",
        "# Summary statistics of the dataset\n",
        "print(\"\\nSummary statistics:\")\n",
        "print(df.describe())\n",
        "\n",
        "\n"
      ],
      "metadata": {
        "id": "mxAZvz7dTFI_"
      },
      "execution_count": null,
      "outputs": []
    },
    {
      "cell_type": "code",
      "source": [
        "# Pairplot to visualize relationships\n",
        "sns.pairplot(df)\n",
        "plt.show()\n",
        "\n",
        "\n"
      ],
      "metadata": {
        "id": "CPHbOtjwWQs5"
      },
      "execution_count": null,
      "outputs": []
    },
    {
      "cell_type": "markdown",
      "source": [
        "Correlation Heatmap helps identify which features have the strongest relationships with the target variable (\"Profit\").\n"
      ],
      "metadata": {
        "id": "RK3l4xkjXn66"
      }
    },
    {
      "cell_type": "code",
      "source": [
        "\n",
        "# Correlation heatmap\n",
        "plt.figure(figsize=(10, 6))\n",
        "sns.heatmap(df.corr(), annot=True, cmap='coolwarm')\n",
        "plt.title('Correlation Matrix Heatmap')\n",
        "plt.show()"
      ],
      "metadata": {
        "id": "BjGPrjtzXmCs"
      },
      "execution_count": null,
      "outputs": []
    },
    {
      "cell_type": "markdown",
      "source": [
        "Data Preprocessing\n"
      ],
      "metadata": {
        "id": "dqWgvai0WVlN"
      }
    },
    {
      "cell_type": "markdown",
      "source": [
        "We split the data into features (X) and target (y), and then split these into training and testing sets. We do so to evaluate the model on unseen data.\n",
        "\n",
        "We create and train a multiple linear regression model using the training set and display the coefficients to understand the impact of each feature on \"Profit.\"\n",
        "\n",
        "We can change Train/Test ratio too. Try 70:30 next\n"
      ],
      "metadata": {
        "id": "27iVnkb0WkYG"
      }
    },
    {
      "cell_type": "markdown",
      "source": [
        "# Trying 70:30"
      ],
      "metadata": {
        "id": "gPucixcC6MI8"
      }
    },
    {
      "cell_type": "code",
      "source": [
        "# Splitting the data into features (X) and target (y)\n",
        "X = df.drop('Profit', axis=1)  # All columns except 'Profit' are features\n",
        "y = df['Profit']               # 'Profit' is the target variable\n",
        "\n",
        "# Splitting the data into training and testing sets (80% train, 20% test)\n",
        "X_train, X_test, y_train, y_test = train_test_split(X, y, test_size=0.3, random_state=42)\n",
        "\n",
        "# Creating and training the multiple linear regression model\n",
        "model = LinearRegression()\n",
        "model.fit(X_train, y_train)\n",
        "\n",
        "# Displaying the coefficients\n",
        "print(\"Model Coefficients:\")\n",
        "coefficients = pd.DataFrame(model.coef_, X.columns, columns=['Coefficient'])\n",
        "print(coefficients)\n",
        "\n",
        "intercept = model.intercept_\n",
        "print(f\"Intercept (β0): {intercept}\")"
      ],
      "metadata": {
        "id": "PUFvmpopyQg7"
      },
      "execution_count": null,
      "outputs": []
    },
    {
      "cell_type": "code",
      "source": [
        "# Splitting the data into features (X) and target (y)\n",
        "X = df.drop('Profit', axis=1)  # All columns except 'Profit' are features\n",
        "y = df['Profit']               # 'Profit' is the target variable\n",
        "\n",
        "# Splitting the data into training and testing sets (80% train, 20% test)\n",
        "X_train, X_test, y_train, y_test = train_test_split(X, y, test_size=0.2, random_state=42)\n",
        "\n",
        "# Creating and training the multiple linear regression model\n",
        "model = LinearRegression()\n",
        "model.fit(X_train, y_train)\n",
        "\n",
        "# Displaying the coefficients\n",
        "print(\"Model Coefficients:\")\n",
        "coefficients = pd.DataFrame(model.coef_, X.columns, columns=['Coefficient'])\n",
        "print(coefficients)\n",
        "\n",
        "intercept = model.intercept_\n",
        "print(f\"Intercept (β0): {intercept}\")\n",
        "\n"
      ],
      "metadata": {
        "id": "1_kOYcV6TFGR"
      },
      "execution_count": null,
      "outputs": []
    },
    {
      "cell_type": "markdown",
      "source": [
        "coefficients represent the positie or negative relation and the intensity.\n",
        "\n",
        "The coefficients indicate the expected change in \"Profit\" for a one-unit change in each feature, assuming other features remain constant.\n",
        "\n",
        "\n",
        "Also, the intercept is implicitly included in the linear regression model by default.\n"
      ],
      "metadata": {
        "id": "5KcABrv4YOkW"
      }
    },
    {
      "cell_type": "code",
      "source": [
        "# Making predictions on the test set\n",
        "y_pred = model.predict(X_test)\n",
        "\n",
        "# Evaluating the model\n",
        "mae = mean_absolute_error(y_test, y_pred)\n",
        "r2 = r2_score(y_test, y_pred)\n",
        "\n",
        "print(f\"Mean Absolute Error: {mae}\")\n",
        "print(f\"R-squared: {r2}\")\n"
      ],
      "metadata": {
        "id": "-KlxE_MBTFDI"
      },
      "execution_count": null,
      "outputs": []
    },
    {
      "cell_type": "markdown",
      "source": [
        "R-squared of 0.77 means the model explains about 77% of the variance in \"Profit\"\n",
        "\n",
        "Higher values indicate a better fit.\n",
        "\n"
      ],
      "metadata": {
        "id": "zB3Os_nuYt8X"
      }
    },
    {
      "cell_type": "code",
      "source": [
        "# Plotting actual vs. predicted values with enhanced labeling and legend\n",
        "plt.figure(figsize=(8, 6))\n",
        "plt.scatter(y_test, y_pred, color='blue', label='Actual Profit')  # Blue dots for actual profit\n",
        "plt.plot([y_test.min(), y_test.max()], [y_test.min(), y_test.max()], 'r--', linewidth=2, label='Predicted Profit (Ideal Line)')  # Red dashed line for predicted profit\n",
        "plt.xlabel('Actual Profit')\n",
        "plt.ylabel('Predicted Profit')\n",
        "plt.title('Actual vs. Predicted Profit')\n",
        "plt.legend()  # Adds a legend to clarify colors\n",
        "plt.show()\n"
      ],
      "metadata": {
        "id": "wiwsIPBsTFBZ"
      },
      "execution_count": null,
      "outputs": []
    },
    {
      "cell_type": "markdown",
      "source": [
        "Points should ideally lie close to the red line, indicating accurate predictions.\n"
      ],
      "metadata": {
        "id": "oTWQTd8gY2Wh"
      }
    },
    {
      "cell_type": "markdown",
      "source": [
        "# Slider\n",
        "Interact with the sliders to input different values for R&D Spend, Administration, and Marketing Spend. The model will predict the profit based on these inputs.\n",
        "\n"
      ],
      "metadata": {
        "id": "WYSnl-pCZS0L"
      }
    },
    {
      "cell_type": "code",
      "source": [
        "# Install ipywidgets (if not already installed)\n",
        "!pip install ipywidgets\n",
        "\n",
        "# Import ipywidgets for interactive components\n",
        "from ipywidgets import interact, FloatSlider, HBox, VBox, widgets\n",
        "\n",
        "# Define a function to make predictions interactively\n",
        "def predict_profit_interactive(rd_spend, administration, marketing_spend):\n",
        "    # Create a DataFrame with input values\n",
        "    input_data = pd.DataFrame({\n",
        "        'R&D Spend': [rd_spend],\n",
        "        'Administration': [administration],\n",
        "        'Marketing Spend': [marketing_spend]\n",
        "    })\n",
        "\n",
        "    # Predict the profit using the trained model\n",
        "    predicted_profit = model.predict(input_data)[0]\n",
        "\n",
        "    # Display the predicted profit\n",
        "    print(f\"Predicted Profit: ${predicted_profit:.2f}\")\n",
        "\n",
        "# Create interactive sliders for user input\n",
        "rd_spend_slider = FloatSlider(value=100000, min=0, max=500000, step=1000, description='R&D Spend:')\n",
        "administration_slider = FloatSlider(value=50000, min=0, max=300000, step=1000, description='Administration:')\n",
        "marketing_spend_slider = FloatSlider(value=100000, min=0, max=500000, step=1000, description='Marketing Spend:')\n",
        "\n",
        "# Display the interactive widget\n",
        "interact(predict_profit_interactive,\n",
        "         rd_spend=rd_spend_slider,\n",
        "         administration=administration_slider,\n",
        "         marketing_spend=marketing_spend_slider);\n"
      ],
      "metadata": {
        "id": "riy5tEOjZUkX"
      },
      "execution_count": null,
      "outputs": []
    },
    {
      "cell_type": "markdown",
      "source": [
        "# Questions\n",
        "\n",
        "\n",
        "1. How can this model help the company decide how much to invest in R&D, Administration, and Marketing?\n",
        "\n",
        "2. What does the mean and standard deviation of R&D Spend suggest about the dataset?\n",
        "\n",
        "3. The Marketing Spend has a large range (difference between min and max values). How might this impact our model?\n",
        "\n",
        "4. If the dataset had categorical features like Startup Industry, how would we handle them in this model?\n",
        "\n",
        "5. What does the correlation matrix tell us about which spending category influences profit the most?\n",
        "\n",
        "6. Why do we use train_test_split() before fitting the model? What is the default split ratio?\n",
        "\n",
        "7. What happens if we remove Administration spending from the model? How would it affect predictions?\n",
        "\n",
        "8. If the test set accuracy is much lower than the training set accuracy, what might be the reason?\n",
        "\n",
        "9. If a new startup has zero spending in Marketing but high R&D and Administration spending, would this model still make accurate predictions?\n",
        "\n",
        "10. The company wants to maximize profit. Should they focus more on increasing R&D spending or Marketing spending based on the model’s results?\n",
        "\n",
        "11. Could this model be used to predict the profit of a startup in a different country? Why or why not?\n",
        "\n",
        "12. If you were advising this startup, what additional variables would you suggest adding to improve predictions?\n"
      ],
      "metadata": {
        "id": "dDMcuuFNAvn9"
      }
    },
    {
      "cell_type": "markdown",
      "source": [
        "1. Question 1 Answer:\n",
        "\n",
        "The model provides coefficients for R&D Spend, Administration, and Marketing Spend, indicating how much each feature contributes to the profit.\n",
        "\n",
        "Spending 1 dollar on R&D raises profit by dollar 0.84 , while administration raises by 0.02 dollar and Marketing spend raises by 0.01 dollar.\n",
        "\n",
        "The company can use these coefficients to optimize spending:\n",
        "\n",
        "Increase investment in areas with higher positive coefficients (e.g., R&D).\n",
        "\n",
        "Reduce spending in areas with lower or negative coefficients (e.g., Administration, as its coeffecient is low).\n",
        "\n",
        "The coeffecients also point out that we should minimize expenses on Marketing spend as coeffecient is small.\n",
        "\n",
        "The interactive slider allows the company to simulate different spending scenarios and predict the resulting profit."
      ],
      "metadata": {
        "id": "5c4cIElUuzxJ"
      }
    },
    {
      "cell_type": "code",
      "source": [
        "# Print the model coefficients\n",
        "print(\"Model Coefficients:\")\n",
        "coefficients = pd.DataFrame(model.coef_, X.columns, columns=['Coefficient'])\n",
        "print(coefficients)\n",
        "\n",
        "# Print the intercept\n",
        "intercept = model.intercept_\n",
        "print(f\"Intercept (β0): {intercept}\")"
      ],
      "metadata": {
        "id": "XYI4siHku_L5"
      },
      "execution_count": null,
      "outputs": []
    },
    {
      "cell_type": "markdown",
      "source": [
        "2. Question 2 Answer:\n",
        "\n",
        "The mean R&D Spend of 70,543.76 indicates the average investment in R&D across all startups in the dataset. The standard deviation of 43,042.35 measures the variability in R&D Spend.\n",
        "\n",
        " A high standard deviation suggests significant differences in R&D investment among startups, with some investing heavily while others allocate considerably less.\n",
        "\n",
        " This variability highlights diverse investment strategies and potential differences in innovation priorities."
      ],
      "metadata": {
        "id": "Sw3ILgn6vqOE"
      }
    },
    {
      "cell_type": "code",
      "source": [
        "# Calculate the mean and standard deviation of R&D Spend\n",
        "mean_rd_spend = df['R&D Spend'].mean()\n",
        "std_rd_spend = df['R&D Spend'].std()\n",
        "\n",
        "# Print the results\n",
        "print(f\"Mean of R&D Spend: {mean_rd_spend:.2f}\")\n",
        "print(f\"Standard Deviation of R&D Spend: {std_rd_spend:.2f}\")"
      ],
      "metadata": {
        "id": "64YkGQX0u_p8"
      },
      "execution_count": null,
      "outputs": []
    },
    {
      "cell_type": "markdown",
      "source": [
        "3. Question 3 Answer:\n",
        "\n",
        "A large range in Marketing Spend can lead to scaling issues in the model, as features with larger ranges can dominate the model's learning process.\n",
        "\n",
        "It may also introduce outliers, which can skew the model's predictions. Moreover, higher range can lead to more variance reducing reliability of predictions.\n",
        "\n",
        "To test this, we can normalize or standardize the Marketing Spend feature and compare the model's performance."
      ],
      "metadata": {
        "id": "dXVqROUdwSX9"
      }
    },
    {
      "cell_type": "markdown",
      "source": [
        "4. Question 4 Answer:\n",
        "\n",
        "If the dataset includes categorical features like \"Startup Industry,\" they can be handled using one-hot encoding or label encoding to make them suitable for the model:\n",
        "\n",
        "One-hot encoding creates separate binary columns for each category, ensuring no ordinal relationships are introduced. This is useful for models that struggle with numerical category rankings.\n",
        "Label encoding assigns a unique integer to each category, which can be efficient but may introduce unintended ordinal relationships."
      ],
      "metadata": {
        "id": "swXX8RKKwSQO"
      }
    },
    {
      "cell_type": "markdown",
      "source": [
        "5. Question 5 Answer:\n",
        "\n",
        "The correlation matrix shows us that R&D spend has the strongest positive correlation with profit of 0.87. This means this is the most important variable to focus on to improve profitability. Marketing spend is the second most important variable has it has a light positive correlation of 0.37 with Profit. Meanwhile, administrative spend has almost no influence on profit as the correlation is very weak of 0.005 only."
      ],
      "metadata": {
        "id": "dZ1n5Nz2wSGc"
      }
    },
    {
      "cell_type": "markdown",
      "source": [
        "6. Question 6 Answer:\n",
        "\n",
        "train_test_split() is used to evaluate the model's performance on unseen data.\n",
        "\n",
        "It splits the dataset into training and testing sets, ensuring that the model is not overfitting to the training data.\n",
        "\n",
        "The default split ratio being used is 80% training and 20% testing but the generally accepted default split is 75% training and 25% testing."
      ],
      "metadata": {
        "id": "hqvUWXwqxKZ5"
      }
    },
    {
      "cell_type": "markdown",
      "source": [
        "7. Question 7 Answer:\n",
        "\n",
        "As administration has almost zero correlation with profit removing it will not significantly affect the predictive performance of the model. It could improve the model by reducing overfitting or complexity.\n",
        "\n",
        "To test this, we can train a model without the Administration feature and compare its performance to the original model.\n",
        "\n",
        "We can see that by removing administration the R^2 did not change significantly and rather it improved from 0.77331 to 0.77384 as complexity was reduced."
      ],
      "metadata": {
        "id": "aCoQ4-jVxKom"
      }
    },
    {
      "cell_type": "code",
      "source": [
        "# Split the data without Administration\n",
        "X_no_admin = df[['R&D Spend', 'Marketing Spend']]\n",
        "y_no_admin = df['Profit']\n",
        "X_train_no_admin, X_test_no_admin, y_train_no_admin, y_test_no_admin = train_test_split(X_no_admin, y_no_admin, test_size=0.2, random_state=42)\n",
        "\n",
        "# Train the model\n",
        "model_no_admin = LinearRegression()\n",
        "model_no_admin.fit(X_train_no_admin, y_train_no_admin)\n",
        "\n",
        "# Evaluate the model\n",
        "y_pred_no_admin = model_no_admin.predict(X_test_no_admin)\n",
        "r2_no_admin = r2_score(y_test_no_admin, y_pred_no_admin)\n",
        "print(f\"R-squared without Administration: {r2_no_admin}\")"
      ],
      "metadata": {
        "id": "-yjIa-Jiyx-K"
      },
      "execution_count": null,
      "outputs": []
    },
    {
      "cell_type": "code",
      "source": [
        "# Making predictions on the test set\n",
        "y_pred = model.predict(X_test)\n",
        "\n",
        "# Evaluating the model\n",
        "mae = mean_absolute_error(y_test, y_pred)\n",
        "r2 = r2_score(y_test, y_pred)\n",
        "\n",
        "print(f\"Mean Absolute Error: {mae}\")\n",
        "print(f\"R-squared: {r2}\")\n"
      ],
      "metadata": {
        "id": "sRm5xCvpzBw6"
      },
      "execution_count": null,
      "outputs": []
    },
    {
      "cell_type": "markdown",
      "source": [
        "8. Question 8 Answer:\n",
        "\n",
        "This suggests overfitting, where the model excels on the training data but struggles with unseen data, leading to poor generalization.\n",
        "\n",
        "Potential causes:\n",
        "\n",
        "The model is too complex, possibly due to an excessive number of features or high-degree polynomial terms, capturing noise rather than true patterns.\n",
        "The training data is not representative of the test data, meaning the model has learned dataset-specific trends that do not generalize well.\n",
        "To address this, techniques like feature selection, regularization (e.g., Lasso or Ridge regression), and increasing training data diversity can help improve model performance on unseen data."
      ],
      "metadata": {
        "id": "Mzu7lZB6xKyU"
      }
    },
    {
      "cell_type": "markdown",
      "source": [
        "9. Question 9 Answer:\n",
        "\n",
        "Yes, but with some limitations. Marketing Spend has a moderate correlation of 0.37 with Profit, meaning it has some influence but is not the strongest predictor. Since its impact is relatively weak compared to R&D Spend, having zero Marketing Spend may not drastically affect the prediction. However, if the dataset shows a pattern where all highly profitable startups have at least some marketing investment, the model might struggle to generalize accurately for such cases, leading to potential prediction errors."
      ],
      "metadata": {
        "id": "gHCYPMUVxK9B"
      }
    },
    {
      "cell_type": "markdown",
      "source": [
        "10. Question 10 Answer:\n",
        "\n",
        "The company should focus on R&D spending as it has the higher positive correlation and the strongest positive coeffecient with respect to a unit increase contribution to profit. (0.87 correlation and 0.845 coeffecient)."
      ],
      "metadata": {
        "id": "8ha0zSF4xLVM"
      }
    },
    {
      "cell_type": "markdown",
      "source": [
        "11. Question 11 Answer:\n",
        "\n",
        "Not reliably. The model is trained on data from a specific market, and factors such as cost structures, economic conditions, industry trends, and regulations can vary significantly across countries. These differences may cause the model to make inaccurate predictions if applied to a different region.\n",
        "\n",
        "Limited generalization: The model may not adapt well to new environments where business dynamics, consumer behavior, and government policies differ. For instance, labor costs, tax structures, and marketing effectiveness can vary widely, affecting profitability.\n",
        "\n",
        "Solution: To improve accuracy, additional data from the target country would be needed to retrain or fine-tune the model, ensuring it captures local market conditions and economic realities."
      ],
      "metadata": {
        "id": "V7G3GmibxLme"
      }
    },
    {
      "cell_type": "markdown",
      "source": [
        "12. Question 12 Answer:\n",
        "\n",
        "Additional variables could include:\n",
        "\n",
        "Geographic location (e.g., country, city).\n",
        "\n",
        "Industry sector (e.g., tech, healthcare).\n",
        "\n",
        "Company size (e.g., number of employees).\n",
        "\n",
        "Economic indicators (e.g., GDP, inflation rate)."
      ],
      "metadata": {
        "id": "I0Zex7ntxLuw"
      }
    }
  ]
}